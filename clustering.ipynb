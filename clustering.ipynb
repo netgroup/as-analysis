{
 "metadata": {
  "language_info": {
   "codemirror_mode": {
    "name": "ipython",
    "version": 3
   },
   "file_extension": ".py",
   "mimetype": "text/x-python",
   "name": "python",
   "nbconvert_exporter": "python",
   "pygments_lexer": "ipython3",
   "version": "3.9.1"
  },
  "orig_nbformat": 2,
  "kernelspec": {
   "name": "python391jvsc74a57bd052ff49cc06b74dac6aaef5d7daa0fee3232336051e9da08aa968db01a51e2d0e",
   "display_name": "Python 3.9.1 64-bit ('as-analysis-4ZNE6qS_': pipenv)"
  }
 },
 "nbformat": 4,
 "nbformat_minor": 2,
 "cells": [
  {
   "cell_type": "code",
   "execution_count": null,
   "metadata": {},
   "outputs": [],
   "source": [
    "import pandas as pd\n",
    "import matplotlib.pyplot as plt"
   ]
  },
  {
   "cell_type": "code",
   "execution_count": null,
   "metadata": {},
   "outputs": [],
   "source": [
    "analysis_df = pd.read_csv(\"analysis_2020_08/analysis.tsv\", delimiter=\"\\t\")[[\"ds_nodes\",\"ds_links\",\"non_as_routers\",\"graph_coreness\",\"core_order\",\"density_lcc\",\"assortativity_lcc\",\"transitivity_lcc\",\"approx_avg_shortest_path_len\"]].dropna()\n",
    "analysis_df"
   ]
  },
  {
   "cell_type": "code",
   "execution_count": null,
   "metadata": {},
   "outputs": [],
   "source": [
    "axl = pd.plotting.scatter_matrix(analysis_df, alpha=0.2, figsize=(20,20))\n",
    "# for i, axs in enumerate(axl):\n",
    "#     for j, ax in enumerate(axs):\n",
    "#         if i != j:  # only the scatter plots\n",
    "#             ax.set_xscale('log')\n",
    "#             ax.set_yscale('log')"
   ]
  },
  {
   "cell_type": "code",
   "execution_count": null,
   "metadata": {},
   "outputs": [],
   "source": [
    "df_star = analysis_df.loc[analysis_df[\"graph_coreness\"] == 1]\n",
    "pd.plotting.scatter_matrix(df_star, alpha=0.2, figsize=(20,20))"
   ]
  },
  {
   "cell_type": "code",
   "execution_count": null,
   "metadata": {},
   "outputs": [],
   "source": [
    "df = analysis_df[[\"core_order\",\"density_lcc\"]]\n",
    "df.plot(ls=\"\", marker = \".\", markersize=7, alpha=.3, figsize=(10,10), x=\"density_lcc\")\n",
    "# plt.yscale(\"log\")\n",
    "# plt.xscale(\"log\")"
   ]
  },
  {
   "cell_type": "code",
   "execution_count": null,
   "metadata": {},
   "outputs": [],
   "source": [
    "df1 = df.loc[(df[\"core_order\"] > 1000) & (df[\"density_lcc\"] > 0.0004)]\n",
    "df1.plot(ls=\"\", marker = \".\", markersize=7, alpha=.3, figsize=(10,10), x=\"density_lcc\")"
   ]
  },
  {
   "cell_type": "code",
   "execution_count": null,
   "metadata": {},
   "outputs": [],
   "source": [
    "df2 = pd.read_csv(\"analysis_2020_08/analysis2.tsv\", delimiter=\"\\t\")\n",
    "df2.loc[(df2[\"core_order\"] > 1000) & (df2[\"density_lcc\"] > 0.0004)][[\"as_number\",\"ds_nodes\",\"ds_links\",\"non_as_routers\",\"leaf1\",\"border\",\"ri_leaf1_aggr\",\"max_leaf1_per_leaf1_aggr\",\"ri_pp_ifs_dis\",\"re_pp_ifs_dis\",\"dis_leaf_aggr_leaf1_num\"]]"
   ]
  },
  {
   "cell_type": "code",
   "execution_count": null,
   "metadata": {},
   "outputs": [],
   "source": [
    "df2.loc[df2[\"graph_coreness\"] == 1]"
   ]
  },
  {
   "cell_type": "code",
   "execution_count": null,
   "metadata": {},
   "outputs": [],
   "source": []
  }
 ]
}