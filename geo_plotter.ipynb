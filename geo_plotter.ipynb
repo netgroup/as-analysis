{
 "metadata": {
  "language_info": {
   "codemirror_mode": {
    "name": "ipython",
    "version": 3
   },
   "file_extension": ".py",
   "mimetype": "text/x-python",
   "name": "python",
   "nbconvert_exporter": "python",
   "pygments_lexer": "ipython3",
   "version": "3.9.4"
  },
  "orig_nbformat": 2,
  "kernelspec": {
   "name": "python394jvsc74a57bd052ff49cc06b74dac6aaef5d7daa0fee3232336051e9da08aa968db01a51e2d0e",
   "display_name": "Python 3.9.4 64-bit ('as-analysis-4ZNE6qS_': pipenv)"
  },
  "metadata": {
   "interpreter": {
    "hash": "545e036c4b32438aced1f6b3c8d38ca151d9c36189e05839cb0aa568fda70ddd"
   }
  }
 },
 "nbformat": 4,
 "nbformat_minor": 2,
 "cells": [
  {
   "cell_type": "code",
   "execution_count": 1,
   "metadata": {},
   "outputs": [],
   "source": [
    "import pandas as pd\n",
    "import matplotlib.pyplot as plt\n",
    "import seaborn\n",
    "import json\n",
    "\n",
    "RATIO = 0.7\n",
    "MIN_SIZE = 1000"
   ]
  },
  {
   "cell_type": "code",
   "execution_count": 33,
   "metadata": {
    "tags": []
   },
   "outputs": [],
   "source": [
    "with open(\"stats/geo_continent_data.json\", \"r\", encoding=\"utf8\") as file_in:\n",
    "    geo_all_dict = json.load(file_in)\n",
    "geo_dict = dict()\n",
    "continent_count = {\n",
    "    \"NA\": 0,\n",
    "    \"SA\": 0,\n",
    "    \"EU\": 0,\n",
    "    \"AF\": 0,\n",
    "    \"AS\": 0,\n",
    "    \"OC\": 0,\n",
    "    \"AN\": 0,\n",
    "    \"MANY\": 0\n",
    "}\n",
    "for as_num, data in geo_all_dict.items():\n",
    "    # if data[\"tot_nodes_count\"] < MIN_SIZE:\n",
    "    #     pass\n",
    "    if data[\"NA_nodes_count\"] >= RATIO * data[\"tot_nodes_count\"]:\n",
    "        geo_dict[as_num] = \"NA\"\n",
    "        continent_count[\"NA\"] += 1\n",
    "    elif data[\"SA_nodes_count\"] >= RATIO * data[\"tot_nodes_count\"]:\n",
    "        geo_dict[as_num] = \"SA\"\n",
    "        continent_count[\"SA\"] += 1\n",
    "    elif data[\"EU_nodes_count\"] >= RATIO * data[\"tot_nodes_count\"]:\n",
    "        geo_dict[as_num] = \"EU\"\n",
    "        continent_count[\"EU\"] += 1\n",
    "    elif data[\"AF_nodes_count\"] >= RATIO * data[\"tot_nodes_count\"]:\n",
    "        geo_dict[as_num] = \"AF\"\n",
    "        continent_count[\"AF\"] += 1\n",
    "    elif data[\"AS_nodes_count\"] >= RATIO * data[\"tot_nodes_count\"]:\n",
    "        geo_dict[as_num] = \"AS\"\n",
    "        continent_count[\"AS\"] += 1\n",
    "    elif data[\"OC_nodes_count\"] >= RATIO * data[\"tot_nodes_count\"]:\n",
    "        geo_dict[as_num] = \"OC\"\n",
    "        continent_count[\"OC\"] += 1\n",
    "    elif data[\"AN_nodes_count\"] >= RATIO * data[\"tot_nodes_count\"]:\n",
    "        geo_dict[as_num] = \"AN\"\n",
    "        continent_count[\"AN\"] += 1\n",
    "    else:\n",
    "        continent_count[\"MANY\"] += 1\n"
   ]
  },
  {
   "cell_type": "code",
   "execution_count": 34,
   "metadata": {},
   "outputs": [
    {
     "output_type": "execute_result",
     "data": {
      "text/plain": [
       "{'NA': 17656,\n",
       " 'SA': 7574,\n",
       " 'EU': 22280,\n",
       " 'AF': 1239,\n",
       " 'AS': 9960,\n",
       " 'OC': 1790,\n",
       " 'AN': 0,\n",
       " 'MANY': 1582}"
      ]
     },
     "metadata": {},
     "execution_count": 34
    }
   ],
   "source": [
    "continent_count"
   ]
  },
  {
   "cell_type": "code",
   "execution_count": 47,
   "metadata": {},
   "outputs": [
    {
     "output_type": "execute_result",
     "data": {
      "text/plain": [
       "           ds_nodes  ds_links  largest_cc_size  largest_cc_coverage  \\\n",
       "as_number                                                             \n",
       "42248          1000      1264             1036             0.994242   \n",
       "6663           1002     16492             4987             0.984989   \n",
       "13591          1002      2982             2264             0.958510   \n",
       "50542          1003      1362             1321             0.992487   \n",
       "4663           1006      2131             1555             0.962252   \n",
       "...             ...       ...              ...                  ...   \n",
       "3209         581362    754669           616334             0.988900   \n",
       "5089         586305    930335           900741             0.989618   \n",
       "209          674414   1309172           825689             0.988111   \n",
       "5607         737909    975056           903661             0.979958   \n",
       "3320         835719   9785057           966945             0.991654   \n",
       "\n",
       "           as_routers  non_as_routers   leaf1  leaf2  default  border  ...  \\\n",
       "as_number                                                              ...   \n",
       "42248            1000              42     957      5        4      34  ...   \n",
       "6663             1002            4061     762     49       31     160  ...   \n",
       "13591            1002            1360     700     92       66     144  ...   \n",
       "50542            1003             328     702      3        3     295  ...   \n",
       "4663             1006             610     661     15       20     310  ...   \n",
       "...               ...             ...     ...    ...      ...     ...  ...   \n",
       "3209           581362           41890  559485   2733      883   18261  ...   \n",
       "5089           586305          323886  262811   5857      894  316743  ...   \n",
       "209            674414          161210  534501  12243     2379  125291  ...   \n",
       "5607           737909          184234  546741   8893      119  182156  ...   \n",
       "3320           835719          139364  769758  29753     7076   29132  ...   \n",
       "\n",
       "           re_tot_tot_neighs  avg_coreness  graph_coreness  core_order  \\\n",
       "as_number                                                                \n",
       "42248                    124      1.162162             7.0        10.0   \n",
       "6663                    9603      2.246240            14.0        38.0   \n",
       "13591                   1883      1.258392             5.0        12.0   \n",
       "50542                    626      1.041635             2.0        55.0   \n",
       "4663                     960      1.221865            10.0        11.0   \n",
       "...                      ...           ...             ...         ...   \n",
       "3209                  107585      1.111151            21.0        28.0   \n",
       "5089                  648144      1.044029             6.0         7.0   \n",
       "209                   639783      1.478631            48.0        70.0   \n",
       "5607                  376411      1.069204            20.0        37.0   \n",
       "3320                 1003491      2.304843            84.0       138.0   \n",
       "\n",
       "           density_lcc  assortativity_lcc  transitivity_lcc  \\\n",
       "as_number                                                     \n",
       "42248         0.002175          -0.789422          0.017278   \n",
       "6663          0.000887          -0.479925          0.022093   \n",
       "13591         0.001085          -0.426800          0.008879   \n",
       "50542         0.001553          -0.560850          0.000115   \n",
       "4663          0.001522          -0.305545          0.027635   \n",
       "...                ...                ...               ...   \n",
       "3209          0.000004          -0.508758          0.000784   \n",
       "5089          0.000002          -0.219191          0.000014   \n",
       "209           0.000004          -0.319592          0.003252   \n",
       "5607          0.000002          -0.259769          0.000113   \n",
       "3320          0.000005          -0.306344          0.006319   \n",
       "\n",
       "           avg_shortest_path_len  approx_avg_shortest_path_len  \\\n",
       "as_number                                                        \n",
       "42248                        NaN                      3.724659   \n",
       "6663                         NaN                      3.244771   \n",
       "13591                        NaN                      4.488884   \n",
       "50542                        NaN                      3.048465   \n",
       "4663                         NaN                      4.050626   \n",
       "...                          ...                           ...   \n",
       "3209                         NaN                      3.978321   \n",
       "5089                         NaN                      5.125428   \n",
       "209                          NaN                      5.216719   \n",
       "5607                         NaN                      3.780878   \n",
       "3320                         NaN                      4.084033   \n",
       "\n",
       "           time_to_analyze  \n",
       "as_number                   \n",
       "42248             7.668886  \n",
       "6663            227.866007  \n",
       "13591            37.121452  \n",
       "50542            12.558716  \n",
       "4663             16.616252  \n",
       "...                    ...  \n",
       "3209          39894.204188  \n",
       "5089          67688.657558  \n",
       "209           73153.831827  \n",
       "5607          72257.860075  \n",
       "3320         138428.494546  \n",
       "\n",
       "[1130 rows x 34 columns]"
      ],
      "text/html": "<div>\n<style scoped>\n    .dataframe tbody tr th:only-of-type {\n        vertical-align: middle;\n    }\n\n    .dataframe tbody tr th {\n        vertical-align: top;\n    }\n\n    .dataframe thead th {\n        text-align: right;\n    }\n</style>\n<table border=\"1\" class=\"dataframe\">\n  <thead>\n    <tr style=\"text-align: right;\">\n      <th></th>\n      <th>ds_nodes</th>\n      <th>ds_links</th>\n      <th>largest_cc_size</th>\n      <th>largest_cc_coverage</th>\n      <th>as_routers</th>\n      <th>non_as_routers</th>\n      <th>leaf1</th>\n      <th>leaf2</th>\n      <th>default</th>\n      <th>border</th>\n      <th>...</th>\n      <th>re_tot_tot_neighs</th>\n      <th>avg_coreness</th>\n      <th>graph_coreness</th>\n      <th>core_order</th>\n      <th>density_lcc</th>\n      <th>assortativity_lcc</th>\n      <th>transitivity_lcc</th>\n      <th>avg_shortest_path_len</th>\n      <th>approx_avg_shortest_path_len</th>\n      <th>time_to_analyze</th>\n    </tr>\n    <tr>\n      <th>as_number</th>\n      <th></th>\n      <th></th>\n      <th></th>\n      <th></th>\n      <th></th>\n      <th></th>\n      <th></th>\n      <th></th>\n      <th></th>\n      <th></th>\n      <th></th>\n      <th></th>\n      <th></th>\n      <th></th>\n      <th></th>\n      <th></th>\n      <th></th>\n      <th></th>\n      <th></th>\n      <th></th>\n      <th></th>\n    </tr>\n  </thead>\n  <tbody>\n    <tr>\n      <th>42248</th>\n      <td>1000</td>\n      <td>1264</td>\n      <td>1036</td>\n      <td>0.994242</td>\n      <td>1000</td>\n      <td>42</td>\n      <td>957</td>\n      <td>5</td>\n      <td>4</td>\n      <td>34</td>\n      <td>...</td>\n      <td>124</td>\n      <td>1.162162</td>\n      <td>7.0</td>\n      <td>10.0</td>\n      <td>0.002175</td>\n      <td>-0.789422</td>\n      <td>0.017278</td>\n      <td>NaN</td>\n      <td>3.724659</td>\n      <td>7.668886</td>\n    </tr>\n    <tr>\n      <th>6663</th>\n      <td>1002</td>\n      <td>16492</td>\n      <td>4987</td>\n      <td>0.984989</td>\n      <td>1002</td>\n      <td>4061</td>\n      <td>762</td>\n      <td>49</td>\n      <td>31</td>\n      <td>160</td>\n      <td>...</td>\n      <td>9603</td>\n      <td>2.246240</td>\n      <td>14.0</td>\n      <td>38.0</td>\n      <td>0.000887</td>\n      <td>-0.479925</td>\n      <td>0.022093</td>\n      <td>NaN</td>\n      <td>3.244771</td>\n      <td>227.866007</td>\n    </tr>\n    <tr>\n      <th>13591</th>\n      <td>1002</td>\n      <td>2982</td>\n      <td>2264</td>\n      <td>0.958510</td>\n      <td>1002</td>\n      <td>1360</td>\n      <td>700</td>\n      <td>92</td>\n      <td>66</td>\n      <td>144</td>\n      <td>...</td>\n      <td>1883</td>\n      <td>1.258392</td>\n      <td>5.0</td>\n      <td>12.0</td>\n      <td>0.001085</td>\n      <td>-0.426800</td>\n      <td>0.008879</td>\n      <td>NaN</td>\n      <td>4.488884</td>\n      <td>37.121452</td>\n    </tr>\n    <tr>\n      <th>50542</th>\n      <td>1003</td>\n      <td>1362</td>\n      <td>1321</td>\n      <td>0.992487</td>\n      <td>1003</td>\n      <td>328</td>\n      <td>702</td>\n      <td>3</td>\n      <td>3</td>\n      <td>295</td>\n      <td>...</td>\n      <td>626</td>\n      <td>1.041635</td>\n      <td>2.0</td>\n      <td>55.0</td>\n      <td>0.001553</td>\n      <td>-0.560850</td>\n      <td>0.000115</td>\n      <td>NaN</td>\n      <td>3.048465</td>\n      <td>12.558716</td>\n    </tr>\n    <tr>\n      <th>4663</th>\n      <td>1006</td>\n      <td>2131</td>\n      <td>1555</td>\n      <td>0.962252</td>\n      <td>1006</td>\n      <td>610</td>\n      <td>661</td>\n      <td>15</td>\n      <td>20</td>\n      <td>310</td>\n      <td>...</td>\n      <td>960</td>\n      <td>1.221865</td>\n      <td>10.0</td>\n      <td>11.0</td>\n      <td>0.001522</td>\n      <td>-0.305545</td>\n      <td>0.027635</td>\n      <td>NaN</td>\n      <td>4.050626</td>\n      <td>16.616252</td>\n    </tr>\n    <tr>\n      <th>...</th>\n      <td>...</td>\n      <td>...</td>\n      <td>...</td>\n      <td>...</td>\n      <td>...</td>\n      <td>...</td>\n      <td>...</td>\n      <td>...</td>\n      <td>...</td>\n      <td>...</td>\n      <td>...</td>\n      <td>...</td>\n      <td>...</td>\n      <td>...</td>\n      <td>...</td>\n      <td>...</td>\n      <td>...</td>\n      <td>...</td>\n      <td>...</td>\n      <td>...</td>\n      <td>...</td>\n    </tr>\n    <tr>\n      <th>3209</th>\n      <td>581362</td>\n      <td>754669</td>\n      <td>616334</td>\n      <td>0.988900</td>\n      <td>581362</td>\n      <td>41890</td>\n      <td>559485</td>\n      <td>2733</td>\n      <td>883</td>\n      <td>18261</td>\n      <td>...</td>\n      <td>107585</td>\n      <td>1.111151</td>\n      <td>21.0</td>\n      <td>28.0</td>\n      <td>0.000004</td>\n      <td>-0.508758</td>\n      <td>0.000784</td>\n      <td>NaN</td>\n      <td>3.978321</td>\n      <td>39894.204188</td>\n    </tr>\n    <tr>\n      <th>5089</th>\n      <td>586305</td>\n      <td>930335</td>\n      <td>900741</td>\n      <td>0.989618</td>\n      <td>586305</td>\n      <td>323886</td>\n      <td>262811</td>\n      <td>5857</td>\n      <td>894</td>\n      <td>316743</td>\n      <td>...</td>\n      <td>648144</td>\n      <td>1.044029</td>\n      <td>6.0</td>\n      <td>7.0</td>\n      <td>0.000002</td>\n      <td>-0.219191</td>\n      <td>0.000014</td>\n      <td>NaN</td>\n      <td>5.125428</td>\n      <td>67688.657558</td>\n    </tr>\n    <tr>\n      <th>209</th>\n      <td>674414</td>\n      <td>1309172</td>\n      <td>825689</td>\n      <td>0.988111</td>\n      <td>674414</td>\n      <td>161210</td>\n      <td>534501</td>\n      <td>12243</td>\n      <td>2379</td>\n      <td>125291</td>\n      <td>...</td>\n      <td>639783</td>\n      <td>1.478631</td>\n      <td>48.0</td>\n      <td>70.0</td>\n      <td>0.000004</td>\n      <td>-0.319592</td>\n      <td>0.003252</td>\n      <td>NaN</td>\n      <td>5.216719</td>\n      <td>73153.831827</td>\n    </tr>\n    <tr>\n      <th>5607</th>\n      <td>737909</td>\n      <td>975056</td>\n      <td>903661</td>\n      <td>0.979958</td>\n      <td>737909</td>\n      <td>184234</td>\n      <td>546741</td>\n      <td>8893</td>\n      <td>119</td>\n      <td>182156</td>\n      <td>...</td>\n      <td>376411</td>\n      <td>1.069204</td>\n      <td>20.0</td>\n      <td>37.0</td>\n      <td>0.000002</td>\n      <td>-0.259769</td>\n      <td>0.000113</td>\n      <td>NaN</td>\n      <td>3.780878</td>\n      <td>72257.860075</td>\n    </tr>\n    <tr>\n      <th>3320</th>\n      <td>835719</td>\n      <td>9785057</td>\n      <td>966945</td>\n      <td>0.991654</td>\n      <td>835719</td>\n      <td>139364</td>\n      <td>769758</td>\n      <td>29753</td>\n      <td>7076</td>\n      <td>29132</td>\n      <td>...</td>\n      <td>1003491</td>\n      <td>2.304843</td>\n      <td>84.0</td>\n      <td>138.0</td>\n      <td>0.000005</td>\n      <td>-0.306344</td>\n      <td>0.006319</td>\n      <td>NaN</td>\n      <td>4.084033</td>\n      <td>138428.494546</td>\n    </tr>\n  </tbody>\n</table>\n<p>1130 rows × 34 columns</p>\n</div>"
     },
     "metadata": {},
     "execution_count": 47
    }
   ],
   "source": [
    "analysis_df = pd.read_csv(\"analysis_2020_08/analysis.tsv\", delimiter=\"\\t\", index_col=0).dropna(how=\"all\", subset=[\"avg_coreness\", \"graph_coreness\", \"core_order\", \"density_lcc\", \"assortativity_lcc\", \"transitivity_lcc\", \"avg_shortest_path_len\", \"approx_avg_shortest_path_len\"]).drop(columns=[\"ri_pp_ifs_dis\", \"ri_tot_neighs_dis\", \"dis_leaf1_aggr_type\", \"dis_leaf_aggr_leaf1_num\", \"re_pp_ifs_dis\", \"re_tot_neighs_dis\"])\n",
    "#[[\"core_order\",\"density_lcc\"]].dropna()\n",
    "analysis_df"
   ]
  },
  {
   "cell_type": "code",
   "execution_count": 101,
   "metadata": {},
   "outputs": [],
   "source": [
    "# geo_dict\n",
    "small_df = analysis_df.iloc[:5]"
   ]
  },
  {
   "cell_type": "code",
   "execution_count": 109,
   "metadata": {
    "tags": []
   },
   "outputs": [
    {
     "output_type": "execute_result",
     "data": {
      "text/plain": [
       "        ds_nodes       ds_links  largest_cc_size  largest_cc_coverage  \\\n",
       "NA  30525.352941  111519.582043     45854.198142             0.979162   \n",
       "SA  11435.979167   32840.020833     19241.895833             0.969382   \n",
       "EU  16603.212598   46869.336614     21760.931102             0.979726   \n",
       "AF   9635.320000   28983.360000     14881.280000             0.978089   \n",
       "AS  21349.994536   83906.546448     39087.562842             0.972210   \n",
       "OC  13672.681818   44637.545455     39964.590909             0.980262   \n",
       "\n",
       "      as_routers  non_as_routers         leaf1       leaf2     default  \\\n",
       "NA  30525.352941    16265.619195  22884.176471  953.315789  181.281734   \n",
       "SA  11435.979167     8472.916667   8868.666667  233.562500   90.104167   \n",
       "EU  16603.212598     5614.381890  13045.681102  285.864173  113.336614   \n",
       "AF   9635.320000     5769.840000   4155.000000  126.280000   48.480000   \n",
       "AS  21349.994536    19562.267760  15819.043716  382.338798  171.344262   \n",
       "OC  13672.681818    26588.909091  10363.454545  268.227273   61.590909   \n",
       "\n",
       "         border  ...  re_tot_tot_neighs  avg_coreness  graph_coreness  \\\n",
       "NA  6506.578947  ...       62605.764706      1.250685        8.953560   \n",
       "SA  2243.645833  ...       16628.437500      1.209991        9.333333   \n",
       "EU  3158.330709  ...       13655.106299      1.210833        8.064961   \n",
       "AF  5305.560000  ...       14883.800000      1.552561       21.640000   \n",
       "AS  4977.267760  ...       50038.120219      1.325962       11.863388   \n",
       "OC  2979.409091  ...       31303.045455      1.216005        8.227273   \n",
       "\n",
       "    core_order  density_lcc  assortativity_lcc  transitivity_lcc  \\\n",
       "NA   79.065015     0.000714          -0.481815          0.010406   \n",
       "SA   27.562500     0.000832          -0.500094          0.007826   \n",
       "EU   38.624016     0.000828          -0.500216          0.008642   \n",
       "AF   61.000000     0.000557          -0.474052          0.022839   \n",
       "AS   61.513661     0.000657          -0.429740          0.012623   \n",
       "OC   20.500000     0.000664          -0.505765          0.006044   \n",
       "\n",
       "    approx_avg_shortest_path_len  time_to_analyze  count  \n",
       "NA                      4.460332      6913.526845    323  \n",
       "SA                      4.027718      1406.812203     48  \n",
       "EU                      4.121159      1636.456647    508  \n",
       "AF                      3.962826      1685.452753     25  \n",
       "AS                      4.366946      4148.271773    183  \n",
       "OC                      3.998191     26855.087486     22  \n",
       "\n",
       "[6 rows x 34 columns]"
      ],
      "text/html": "<div>\n<style scoped>\n    .dataframe tbody tr th:only-of-type {\n        vertical-align: middle;\n    }\n\n    .dataframe tbody tr th {\n        vertical-align: top;\n    }\n\n    .dataframe thead th {\n        text-align: right;\n    }\n</style>\n<table border=\"1\" class=\"dataframe\">\n  <thead>\n    <tr style=\"text-align: right;\">\n      <th></th>\n      <th>ds_nodes</th>\n      <th>ds_links</th>\n      <th>largest_cc_size</th>\n      <th>largest_cc_coverage</th>\n      <th>as_routers</th>\n      <th>non_as_routers</th>\n      <th>leaf1</th>\n      <th>leaf2</th>\n      <th>default</th>\n      <th>border</th>\n      <th>...</th>\n      <th>re_tot_tot_neighs</th>\n      <th>avg_coreness</th>\n      <th>graph_coreness</th>\n      <th>core_order</th>\n      <th>density_lcc</th>\n      <th>assortativity_lcc</th>\n      <th>transitivity_lcc</th>\n      <th>approx_avg_shortest_path_len</th>\n      <th>time_to_analyze</th>\n      <th>count</th>\n    </tr>\n  </thead>\n  <tbody>\n    <tr>\n      <th>NA</th>\n      <td>30525.352941</td>\n      <td>111519.582043</td>\n      <td>45854.198142</td>\n      <td>0.979162</td>\n      <td>30525.352941</td>\n      <td>16265.619195</td>\n      <td>22884.176471</td>\n      <td>953.315789</td>\n      <td>181.281734</td>\n      <td>6506.578947</td>\n      <td>...</td>\n      <td>62605.764706</td>\n      <td>1.250685</td>\n      <td>8.953560</td>\n      <td>79.065015</td>\n      <td>0.000714</td>\n      <td>-0.481815</td>\n      <td>0.010406</td>\n      <td>4.460332</td>\n      <td>6913.526845</td>\n      <td>323</td>\n    </tr>\n    <tr>\n      <th>SA</th>\n      <td>11435.979167</td>\n      <td>32840.020833</td>\n      <td>19241.895833</td>\n      <td>0.969382</td>\n      <td>11435.979167</td>\n      <td>8472.916667</td>\n      <td>8868.666667</td>\n      <td>233.562500</td>\n      <td>90.104167</td>\n      <td>2243.645833</td>\n      <td>...</td>\n      <td>16628.437500</td>\n      <td>1.209991</td>\n      <td>9.333333</td>\n      <td>27.562500</td>\n      <td>0.000832</td>\n      <td>-0.500094</td>\n      <td>0.007826</td>\n      <td>4.027718</td>\n      <td>1406.812203</td>\n      <td>48</td>\n    </tr>\n    <tr>\n      <th>EU</th>\n      <td>16603.212598</td>\n      <td>46869.336614</td>\n      <td>21760.931102</td>\n      <td>0.979726</td>\n      <td>16603.212598</td>\n      <td>5614.381890</td>\n      <td>13045.681102</td>\n      <td>285.864173</td>\n      <td>113.336614</td>\n      <td>3158.330709</td>\n      <td>...</td>\n      <td>13655.106299</td>\n      <td>1.210833</td>\n      <td>8.064961</td>\n      <td>38.624016</td>\n      <td>0.000828</td>\n      <td>-0.500216</td>\n      <td>0.008642</td>\n      <td>4.121159</td>\n      <td>1636.456647</td>\n      <td>508</td>\n    </tr>\n    <tr>\n      <th>AF</th>\n      <td>9635.320000</td>\n      <td>28983.360000</td>\n      <td>14881.280000</td>\n      <td>0.978089</td>\n      <td>9635.320000</td>\n      <td>5769.840000</td>\n      <td>4155.000000</td>\n      <td>126.280000</td>\n      <td>48.480000</td>\n      <td>5305.560000</td>\n      <td>...</td>\n      <td>14883.800000</td>\n      <td>1.552561</td>\n      <td>21.640000</td>\n      <td>61.000000</td>\n      <td>0.000557</td>\n      <td>-0.474052</td>\n      <td>0.022839</td>\n      <td>3.962826</td>\n      <td>1685.452753</td>\n      <td>25</td>\n    </tr>\n    <tr>\n      <th>AS</th>\n      <td>21349.994536</td>\n      <td>83906.546448</td>\n      <td>39087.562842</td>\n      <td>0.972210</td>\n      <td>21349.994536</td>\n      <td>19562.267760</td>\n      <td>15819.043716</td>\n      <td>382.338798</td>\n      <td>171.344262</td>\n      <td>4977.267760</td>\n      <td>...</td>\n      <td>50038.120219</td>\n      <td>1.325962</td>\n      <td>11.863388</td>\n      <td>61.513661</td>\n      <td>0.000657</td>\n      <td>-0.429740</td>\n      <td>0.012623</td>\n      <td>4.366946</td>\n      <td>4148.271773</td>\n      <td>183</td>\n    </tr>\n    <tr>\n      <th>OC</th>\n      <td>13672.681818</td>\n      <td>44637.545455</td>\n      <td>39964.590909</td>\n      <td>0.980262</td>\n      <td>13672.681818</td>\n      <td>26588.909091</td>\n      <td>10363.454545</td>\n      <td>268.227273</td>\n      <td>61.590909</td>\n      <td>2979.409091</td>\n      <td>...</td>\n      <td>31303.045455</td>\n      <td>1.216005</td>\n      <td>8.227273</td>\n      <td>20.500000</td>\n      <td>0.000664</td>\n      <td>-0.505765</td>\n      <td>0.006044</td>\n      <td>3.998191</td>\n      <td>26855.087486</td>\n      <td>22</td>\n    </tr>\n  </tbody>\n</table>\n<p>6 rows × 34 columns</p>\n</div>"
     },
     "metadata": {},
     "execution_count": 109
    }
   ],
   "source": [
    "# per-continent stats\n",
    "continents = dict()\n",
    "for continent, count in continent_count.items():\n",
    "    continent_dict = dict()\n",
    "    for column in analysis_df.columns:\n",
    "        continent_dict[column] = 0\n",
    "    continent_dict[\"count\"] = 0\n",
    "    continents[continent] = continent_dict\n",
    "for index, row in analysis_df.iterrows():\n",
    "    as_number = str(index)\n",
    "    if as_number not in geo_dict:\n",
    "        continue\n",
    "    continent = geo_dict[as_number]\n",
    "    for column in analysis_df.columns:\n",
    "        continents[continent][column] = continents[continent][column] + row[column]\n",
    "    continents[continent][\"count\"] = continents[continent][\"count\"] + 1\n",
    "# average\n",
    "for continent, row in continents.items():\n",
    "    for column, data in row.items():\n",
    "        if row[\"count\"] != 0 and column != \"count\":\n",
    "            continents[continent][column] = data / row[\"count\"]\n",
    "\n",
    "\n",
    "        \n",
    "\n",
    "continent_df = pd.DataFrame.from_dict(continents, orient=\"index\").drop([\"AN\", \"MANY\"]).drop(columns=[\"avg_shortest_path_len\"])\n",
    "continent_df"
   ]
  },
  {
   "cell_type": "code",
   "execution_count": 4,
   "metadata": {},
   "outputs": [
    {
     "output_type": "execute_result",
     "data": {
      "text/plain": [
       "          continent\n",
       "as_number          \n",
       "11814            NA\n",
       "31655            EU\n",
       "9381             AS\n",
       "13489            SA\n",
       "36149            NA\n",
       "...             ...\n",
       "140671           AS\n",
       "135127           OC\n",
       "135972           AS\n",
       "140220           OC\n",
       "37958            AS\n",
       "\n",
       "[60499 rows x 1 columns]"
      ],
      "text/html": "<div>\n<style scoped>\n    .dataframe tbody tr th:only-of-type {\n        vertical-align: middle;\n    }\n\n    .dataframe tbody tr th {\n        vertical-align: top;\n    }\n\n    .dataframe thead th {\n        text-align: right;\n    }\n</style>\n<table border=\"1\" class=\"dataframe\">\n  <thead>\n    <tr style=\"text-align: right;\">\n      <th></th>\n      <th>continent</th>\n    </tr>\n    <tr>\n      <th>as_number</th>\n      <th></th>\n    </tr>\n  </thead>\n  <tbody>\n    <tr>\n      <th>11814</th>\n      <td>NA</td>\n    </tr>\n    <tr>\n      <th>31655</th>\n      <td>EU</td>\n    </tr>\n    <tr>\n      <th>9381</th>\n      <td>AS</td>\n    </tr>\n    <tr>\n      <th>13489</th>\n      <td>SA</td>\n    </tr>\n    <tr>\n      <th>36149</th>\n      <td>NA</td>\n    </tr>\n    <tr>\n      <th>...</th>\n      <td>...</td>\n    </tr>\n    <tr>\n      <th>140671</th>\n      <td>AS</td>\n    </tr>\n    <tr>\n      <th>135127</th>\n      <td>OC</td>\n    </tr>\n    <tr>\n      <th>135972</th>\n      <td>AS</td>\n    </tr>\n    <tr>\n      <th>140220</th>\n      <td>OC</td>\n    </tr>\n    <tr>\n      <th>37958</th>\n      <td>AS</td>\n    </tr>\n  </tbody>\n</table>\n<p>60499 rows × 1 columns</p>\n</div>"
     },
     "metadata": {},
     "execution_count": 4
    }
   ],
   "source": [
    "# geo_df = pd.DataFrame.from_dict(geo_dict, orient=\"index\", columns=[\"continent\"])\n",
    "geo_df = pd.DataFrame(geo_dict.items(), columns=[\"as_number\", \"continent\"]).astype({\"as_number\": int}).set_index(\"as_number\")\n",
    "geo_df"
   ]
  },
  {
   "cell_type": "code",
   "execution_count": null,
   "metadata": {},
   "outputs": [],
   "source": [
    "df = analysis_df.join(geo_df)"
   ]
  },
  {
   "cell_type": "code",
   "execution_count": null,
   "metadata": {},
   "outputs": [],
   "source": [
    "fg = seaborn.FacetGrid(data=df, hue='continent', aspect=1.61)\n",
    "fg.map(plt.scatter, 'density_lcc', 'core_order').add_legend()"
   ]
  },
  {
   "cell_type": "code",
   "execution_count": null,
   "metadata": {},
   "outputs": [],
   "source": [
    "fig, ax = plt.subplots(figsize=(16,9))\n",
    "seaborn.scatterplot(data=df, x=\"density_lcc\", y=\"core_order\", hue='continent', s=10, linewidth=0, ax=ax)"
   ]
  },
  {
   "cell_type": "code",
   "execution_count": null,
   "metadata": {},
   "outputs": [],
   "source": []
  }
 ]
}