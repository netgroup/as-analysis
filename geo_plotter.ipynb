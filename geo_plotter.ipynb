{
 "metadata": {
  "language_info": {
   "codemirror_mode": {
    "name": "ipython",
    "version": 3
   },
   "file_extension": ".py",
   "mimetype": "text/x-python",
   "name": "python",
   "nbconvert_exporter": "python",
   "pygments_lexer": "ipython3",
   "version": "3.9.4"
  },
  "orig_nbformat": 2,
  "kernelspec": {
   "name": "python394jvsc74a57bd052ff49cc06b74dac6aaef5d7daa0fee3232336051e9da08aa968db01a51e2d0e",
   "display_name": "Python 3.9.4 64-bit ('as-analysis-4ZNE6qS_': pipenv)"
  },
  "metadata": {
   "interpreter": {
    "hash": "545e036c4b32438aced1f6b3c8d38ca151d9c36189e05839cb0aa568fda70ddd"
   }
  }
 },
 "nbformat": 4,
 "nbformat_minor": 2,
 "cells": [
  {
   "cell_type": "code",
   "execution_count": null,
   "metadata": {},
   "outputs": [],
   "source": [
    "import pandas as pd\n",
    "import matplotlib.pyplot as plt\n",
    "import seaborn\n",
    "import json\n",
    "\n",
    "RATIO = 0.7\n",
    "MIN_SIZE = 1000"
   ]
  },
  {
   "cell_type": "code",
   "execution_count": null,
   "metadata": {
    "tags": []
   },
   "outputs": [],
   "source": [
    "with open(\"stats/geo_continent_data.json\", \"r\", encoding=\"utf8\") as file_in:\n",
    "    geo_all_dict = json.load(file_in)\n",
    "geo_dict = dict()\n",
    "continent_count = {\n",
    "    \"NA\": 0,\n",
    "    \"SA\": 0,\n",
    "    \"EU\": 0,\n",
    "    \"AF\": 0,\n",
    "    \"AS\": 0,\n",
    "    \"OC\": 0,\n",
    "    \"AN\": 0,\n",
    "    \"MANY\": 0\n",
    "}\n",
    "for as_num, data in geo_all_dict.items():\n",
    "    # if data[\"tot_nodes_count\"] < MIN_SIZE:\n",
    "    #     pass\n",
    "    if data[\"NA_nodes_count\"] >= RATIO * data[\"tot_nodes_count\"]:\n",
    "        geo_dict[as_num] = \"NA\"\n",
    "        continent_count[\"NA\"] += 1\n",
    "    elif data[\"SA_nodes_count\"] >= RATIO * data[\"tot_nodes_count\"]:\n",
    "        geo_dict[as_num] = \"SA\"\n",
    "        continent_count[\"SA\"] += 1\n",
    "    elif data[\"EU_nodes_count\"] >= RATIO * data[\"tot_nodes_count\"]:\n",
    "        geo_dict[as_num] = \"EU\"\n",
    "        continent_count[\"EU\"] += 1\n",
    "    elif data[\"AF_nodes_count\"] >= RATIO * data[\"tot_nodes_count\"]:\n",
    "        geo_dict[as_num] = \"AF\"\n",
    "        continent_count[\"AF\"] += 1\n",
    "    elif data[\"AS_nodes_count\"] >= RATIO * data[\"tot_nodes_count\"]:\n",
    "        geo_dict[as_num] = \"AS\"\n",
    "        continent_count[\"AS\"] += 1\n",
    "    elif data[\"OC_nodes_count\"] >= RATIO * data[\"tot_nodes_count\"]:\n",
    "        geo_dict[as_num] = \"OC\"\n",
    "        continent_count[\"OC\"] += 1\n",
    "    elif data[\"AN_nodes_count\"] >= RATIO * data[\"tot_nodes_count\"]:\n",
    "        geo_dict[as_num] = \"AN\"\n",
    "        continent_count[\"AN\"] += 1\n",
    "    else:\n",
    "        continent_count[\"MANY\"] += 1\n"
   ]
  },
  {
   "cell_type": "code",
   "execution_count": null,
   "metadata": {},
   "outputs": [],
   "source": [
    "continent_count"
   ]
  },
  {
   "cell_type": "code",
   "execution_count": null,
   "metadata": {},
   "outputs": [],
   "source": [
    "analysis_df = pd.read_csv(\"analysis_2020_08/analysis.tsv\", delimiter=\"\\t\", index_col=0).dropna(how=\"all\", subset=[\"avg_coreness\", \"graph_coreness\", \"core_order\", \"density_lcc\", \"assortativity_lcc\", \"transitivity_lcc\", \"avg_shortest_path_len\", \"approx_avg_shortest_path_len\"]).drop(columns=[\"ri_pp_ifs_dis\", \"ri_tot_neighs_dis\", \"dis_leaf1_aggr_type\", \"dis_leaf_aggr_leaf1_num\", \"re_pp_ifs_dis\", \"re_tot_neighs_dis\"])\n",
    "#[[\"core_order\",\"density_lcc\"]].dropna()\n",
    "analysis_df"
   ]
  },
  {
   "cell_type": "code",
   "execution_count": null,
   "metadata": {},
   "outputs": [],
   "source": [
    "# geo_dict\n",
    "small_df = analysis_df.iloc[:5]"
   ]
  },
  {
   "cell_type": "code",
   "execution_count": null,
   "metadata": {
    "tags": []
   },
   "outputs": [],
   "source": [
    "# per-continent stats\n",
    "continents = dict()\n",
    "for continent, count in continent_count.items():\n",
    "    continent_dict = dict()\n",
    "    for column in analysis_df.columns:\n",
    "        continent_dict[column] = 0\n",
    "    continent_dict[\"count\"] = 0\n",
    "    continents[continent] = continent_dict\n",
    "for index, row in analysis_df.iterrows():\n",
    "    as_number = str(index)\n",
    "    if as_number not in geo_dict:\n",
    "        continue\n",
    "    continent = geo_dict[as_number]\n",
    "    for column in analysis_df.columns:\n",
    "        continents[continent][column] = continents[continent][column] + row[column]\n",
    "    continents[continent][\"count\"] = continents[continent][\"count\"] + 1\n",
    "# average\n",
    "for continent, row in continents.items():\n",
    "    for column, data in row.items():\n",
    "        if row[\"count\"] != 0 and column != \"count\":\n",
    "            continents[continent][column] = data / row[\"count\"]\n",
    "\n",
    "\n",
    "        \n",
    "\n",
    "continent_df = pd.DataFrame.from_dict(continents, orient=\"index\").drop([\"AN\", \"MANY\"]).drop(columns=[\"avg_shortest_path_len\"])\n",
    "continent_df"
   ]
  },
  {
   "cell_type": "code",
   "execution_count": null,
   "metadata": {},
   "outputs": [],
   "source": [
    "# geo_df = pd.DataFrame.from_dict(geo_dict, orient=\"index\", columns=[\"continent\"])\n",
    "geo_df = pd.DataFrame(geo_dict.items(), columns=[\"as_number\", \"continent\"]).astype({\"as_number\": int}).set_index(\"as_number\")\n",
    "geo_df"
   ]
  },
  {
   "cell_type": "code",
   "execution_count": null,
   "metadata": {},
   "outputs": [],
   "source": [
    "df = analysis_df.join(geo_df)"
   ]
  },
  {
   "cell_type": "code",
   "execution_count": null,
   "metadata": {},
   "outputs": [],
   "source": [
    "fg = seaborn.FacetGrid(data=df, hue='continent', aspect=1.61)\n",
    "fg.map(plt.scatter, 'density_lcc', 'core_order').add_legend()"
   ]
  },
  {
   "cell_type": "code",
   "execution_count": null,
   "metadata": {},
   "outputs": [],
   "source": [
    "fig, ax = plt.subplots(figsize=(16,9))\n",
    "seaborn.scatterplot(data=df, x=\"density_lcc\", y=\"core_order\", hue='continent', s=10, linewidth=0, ax=ax)"
   ]
  },
  {
   "cell_type": "code",
   "execution_count": null,
   "metadata": {},
   "outputs": [],
   "source": []
  }
 ]
}