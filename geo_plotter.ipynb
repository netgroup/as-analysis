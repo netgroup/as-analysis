{
 "metadata": {
  "language_info": {
   "codemirror_mode": {
    "name": "ipython",
    "version": 3
   },
   "file_extension": ".py",
   "mimetype": "text/x-python",
   "name": "python",
   "nbconvert_exporter": "python",
   "pygments_lexer": "ipython3",
   "version": "3.9.1"
  },
  "orig_nbformat": 2,
  "kernelspec": {
   "name": "python391jvsc74a57bd052ff49cc06b74dac6aaef5d7daa0fee3232336051e9da08aa968db01a51e2d0e",
   "display_name": "Python 3.9.1 64-bit ('as-analysis-4ZNE6qS_': pipenv)"
  },
  "metadata": {
   "interpreter": {
    "hash": "545e036c4b32438aced1f6b3c8d38ca151d9c36189e05839cb0aa568fda70ddd"
   }
  }
 },
 "nbformat": 4,
 "nbformat_minor": 2,
 "cells": [
  {
   "cell_type": "code",
   "execution_count": null,
   "metadata": {},
   "outputs": [],
   "source": [
    "import pandas as pd\n",
    "import matplotlib.pyplot as plt\n",
    "import seaborn\n",
    "import json\n",
    "\n",
    "RATIO = 0.7\n",
    "MIN_SIZE = 1000"
   ]
  },
  {
   "cell_type": "code",
   "execution_count": null,
   "metadata": {
    "tags": []
   },
   "outputs": [],
   "source": [
    "with open(\"stats/geo_continent_data.json\", \"r\", encoding=\"utf8\") as file_in:\n",
    "    geo_all_dict = json.load(file_in)\n",
    "geo_dict = dict()\n",
    "continent_count = {\n",
    "    \"NA\": 0,\n",
    "    \"SA\": 0,\n",
    "    \"EU\": 0,\n",
    "    \"AF\": 0,\n",
    "    \"AS\": 0,\n",
    "    \"OC\": 0,\n",
    "    \"AN\": 0,\n",
    "    \"MANY\": 0\n",
    "}\n",
    "for as_num, data in geo_all_dict.items():\n",
    "    # if data[\"tot_nodes_count\"] < MIN_SIZE:\n",
    "    #     pass\n",
    "    if data[\"NA_nodes_count\"] >= RATIO * data[\"tot_nodes_count\"]:\n",
    "        geo_dict[as_num] = \"NA\"\n",
    "        continent_count[\"NA\"] += 1\n",
    "    elif data[\"SA_nodes_count\"] >= RATIO * data[\"tot_nodes_count\"]:\n",
    "        geo_dict[as_num] = \"SA\"\n",
    "        continent_count[\"SA\"] += 1\n",
    "    elif data[\"EU_nodes_count\"] >= RATIO * data[\"tot_nodes_count\"]:\n",
    "        geo_dict[as_num] = \"EU\"\n",
    "        continent_count[\"EU\"] += 1\n",
    "    elif data[\"AF_nodes_count\"] >= RATIO * data[\"tot_nodes_count\"]:\n",
    "        geo_dict[as_num] = \"AF\"\n",
    "        continent_count[\"AF\"] += 1\n",
    "    elif data[\"AS_nodes_count\"] >= RATIO * data[\"tot_nodes_count\"]:\n",
    "        geo_dict[as_num] = \"AS\"\n",
    "        continent_count[\"AS\"] += 1\n",
    "    elif data[\"OC_nodes_count\"] >= RATIO * data[\"tot_nodes_count\"]:\n",
    "        geo_dict[as_num] = \"OC\"\n",
    "        continent_count[\"OC\"] += 1\n",
    "    elif data[\"AN_nodes_count\"] >= RATIO * data[\"tot_nodes_count\"]:\n",
    "        geo_dict[as_num] = \"AN\"\n",
    "        continent_count[\"AN\"] += 1\n",
    "    else:\n",
    "        continent_count[\"MANY\"] += 1\n"
   ]
  },
  {
   "cell_type": "code",
   "execution_count": null,
   "metadata": {},
   "outputs": [],
   "source": [
    "continent_count"
   ]
  },
  {
   "cell_type": "code",
   "execution_count": null,
   "metadata": {},
   "outputs": [],
   "source": [
    "# geo_df = pd.DataFrame.from_dict(geo_dict, orient=\"index\", columns=[\"continent\"])\n",
    "geo_df = pd.DataFrame(geo_dict.items(), columns=[\"as_number\", \"continent\"]).astype({\"as_number\": int}).set_index(\"as_number\")\n",
    "geo_df"
   ]
  },
  {
   "cell_type": "code",
   "execution_count": null,
   "metadata": {},
   "outputs": [],
   "source": [
    "analysis_df = pd.read_csv(\"analysis_2020_08/analysis.tsv\", delimiter=\"\\t\", index_col=0)[[\"core_order\",\"density_lcc\"]].dropna()\n",
    "analysis_df"
   ]
  },
  {
   "cell_type": "code",
   "execution_count": null,
   "metadata": {},
   "outputs": [],
   "source": [
    "df = analysis_df.join(geo_df)"
   ]
  },
  {
   "cell_type": "code",
   "execution_count": null,
   "metadata": {},
   "outputs": [],
   "source": [
    "fg = seaborn.FacetGrid(data=df, hue='continent', aspect=1.61)\n",
    "fg.map(plt.scatter, 'density_lcc', 'core_order').add_legend()"
   ]
  },
  {
   "cell_type": "code",
   "execution_count": null,
   "metadata": {},
   "outputs": [],
   "source": [
    "fig, ax = plt.subplots(figsize=(16,9))\n",
    "seaborn.scatterplot(data=df, x=\"density_lcc\", y=\"core_order\", hue='continent', s=10, linewidth=0, ax=ax)"
   ]
  },
  {
   "cell_type": "code",
   "execution_count": null,
   "metadata": {},
   "outputs": [],
   "source": []
  }
 ]
}