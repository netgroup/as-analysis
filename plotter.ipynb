{
 "metadata": {
  "language_info": {
   "codemirror_mode": {
    "name": "ipython",
    "version": 3
   },
   "file_extension": ".py",
   "mimetype": "text/x-python",
   "name": "python",
   "nbconvert_exporter": "python",
   "pygments_lexer": "ipython3",
   "version": "3.9.1-final"
  },
  "orig_nbformat": 2,
  "kernelspec": {
   "name": "python3",
   "display_name": "Python 3.9.1 64-bit ('as-analysis': pipenv)",
   "metadata": {
    "interpreter": {
     "hash": "52ff49cc06b74dac6aaef5d7daa0fee3232336051e9da08aa968db01a51e2d0e"
    }
   }
  }
 },
 "nbformat": 4,
 "nbformat_minor": 2,
 "cells": [
  {
   "cell_type": "code",
   "execution_count": null,
   "metadata": {},
   "outputs": [],
   "source": [
    "import matplotlib.pyplot as plt\n",
    "import json\n",
    "import pandas as pd"
   ]
  },
  {
   "cell_type": "code",
   "execution_count": null,
   "metadata": {},
   "outputs": [],
   "source": [
    "with open(\"c_names.json\") as json_file:\n",
    "  column_names = json.load(json_file)\n",
    "analysis_df = pd.read_csv(\"analysis-1.tsv\", delimiter=\"\\t\", names=column_names)\n",
    "analysis_df = analysis_df.sort_values(by=\"ds_nodes\").reset_index().drop(\"index\", axis=1)"
   ]
  },
  {
   "source": [
    "# Distributions in the single AS"
   ],
   "cell_type": "markdown",
   "metadata": {}
  },
  {
   "cell_type": "code",
   "execution_count": null,
   "metadata": {},
   "outputs": [],
   "source": [
    "# single AS\n",
    "as_number = 21508\n",
    "rows = analysis_df.loc[analysis_df['as_number'] == as_number]\n",
    "for row in rows[\"ri_tot_ifs_dis\"]:\n",
    "    obj = json.loads(row)\n",
    "df = pd.DataFrame.from_dict(obj, orient=\"index\")\n",
    "new_index = list(map(str, list(range(1,int(df.last_valid_index())+1))))\n",
    "df = df.reindex(new_index, fill_value=0)\n",
    "df.plot(ls=\"\", marker = \".\", legend=None, title=str(as_number))\n",
    "plt.yscale(\"log\")\n",
    "# plt.xlim(left=-10, right=200)\n",
    "plt.xlim(left=-10)\n",
    "plt.ylim(bottom = 0.9)\n",
    "plt.savefig(\"figures/intf_dis.png\", dpi=300)"
   ]
  },
  {
   "cell_type": "code",
   "execution_count": null,
   "metadata": {},
   "outputs": [],
   "source": [
    "# aggregator types\n",
    "rows = analysis_df.loc[analysis_df['as_number'] == 21508]\n",
    "for row in rows[\"dis_leaf1_aggr_type\"]:\n",
    "    obj = json.loads(row)\n",
    "plt.bar(obj.keys(), obj.values(), color=[\"blue\", \"red\", \"green\"])\n",
    "plt.savefig(\"figures/aggr_type.png\", dpi=300)"
   ]
  },
  {
   "source": [
    "# Statistics in function of number of nodes in the AS"
   ],
   "cell_type": "markdown",
   "metadata": {}
  },
  {
   "cell_type": "code",
   "execution_count": null,
   "metadata": {},
   "outputs": [],
   "source": [
    "# number of links in the AS\n",
    "df = analysis_df[[\"ds_nodes\", \"ds_links\"]]\n",
    "df.plot(ls=\"\", marker = \".\", x=\"ds_nodes\", markersize=7, alpha=.3)\n",
    "plt.yscale(\"log\")\n",
    "plt.xscale(\"log\")\n",
    "plt.savefig(\"figures/links.png\", dpi=300)"
   ]
  },
  {
   "cell_type": "code",
   "execution_count": null,
   "metadata": {},
   "outputs": [],
   "source": [
    "# avg shortest path length\n",
    "df = analysis_df[[\"ds_nodes\", \"avg_shortest_path_len\"]]\n",
    "df.plot(ls=\"\", marker = \".\", x=\"ds_nodes\", markersize=7, alpha=.3)\n",
    "# plt.yscale(\"log\")\n",
    "plt.xscale(\"log\")\n",
    "plt.savefig(\"figures/avg_short_path.png\", dpi=300)\n",
    "#TODO numero nodi di lcc"
   ]
  },
  {
   "cell_type": "code",
   "execution_count": null,
   "metadata": {},
   "outputs": [],
   "source": [
    "# transitivity\n",
    "df = analysis_df[[\"ds_nodes\", \"transitivity\"]]\n",
    "df.plot(ls=\"\", marker = \".\", x=\"ds_nodes\", markersize=7, alpha=.3)\n",
    "plt.yscale(\"log\")\n",
    "plt.xscale(\"log\")\n",
    "plt.savefig(\"figures/trans.png\", dpi=300)\n",
    "\n",
    "df = analysis_df[[\"ds_nodes\", \"transitivity_lcc\"]]\n",
    "df.plot(ls=\"\", marker = \".\", x=\"ds_nodes\", markersize=7, alpha=.3)\n",
    "plt.yscale(\"log\")\n",
    "plt.xscale(\"log\")\n",
    "plt.savefig(\"figures/trans_lcc.png\", dpi=300)\n",
    "\n",
    "df = analysis_df[[\"ds_nodes\", \"transitivity\", \"transitivity_lcc\"]]\n",
    "df.plot(ls=\"\", marker = \".\", x=\"ds_nodes\", markersize=7, alpha=.3)\n",
    "plt.yscale(\"log\")\n",
    "plt.xscale(\"log\")\n",
    "plt.savefig(\"figures/trans_all.png\", dpi=300)"
   ]
  },
  {
   "cell_type": "code",
   "execution_count": null,
   "metadata": {},
   "outputs": [],
   "source": [
    "# density\n",
    "df = analysis_df[[\"ds_nodes\", \"density\"]]\n",
    "df.plot(ls=\"\", marker = \".\", x=\"ds_nodes\", markersize=7, alpha=.3)\n",
    "plt.yscale(\"log\")\n",
    "plt.xscale(\"log\")\n",
    "plt.savefig(\"figures/dens.png\", dpi=300)\n",
    "\n",
    "df = analysis_df[[\"ds_nodes\", \"density_lcc\"]]\n",
    "df.plot(ls=\"\", marker = \".\", x=\"ds_nodes\", markersize=7, alpha=.3)\n",
    "plt.yscale(\"log\")\n",
    "plt.xscale(\"log\")\n",
    "plt.savefig(\"figures/dens_lcc.png\", dpi=300)\n",
    "\n",
    "df = analysis_df[[\"ds_nodes\", \"density\", \"density_lcc\"]]\n",
    "df.plot(ls=\"\", marker = \".\", x=\"ds_nodes\", markersize=7, alpha=.1)\n",
    "plt.yscale(\"log\")\n",
    "plt.xscale(\"log\")\n",
    "plt.savefig(\"figures/dens_all.png\", dpi=300)"
   ]
  },
  {
   "cell_type": "code",
   "execution_count": null,
   "metadata": {},
   "outputs": [],
   "source": [
    "# assortativity\n",
    "df = analysis_df[[\"ds_nodes\", \"assortativity\"]]\n",
    "df.plot(ls=\"\", marker = \".\", x=\"ds_nodes\", markersize=7, alpha=.3)\n",
    "plt.xscale(\"log\")\n",
    "plt.savefig(\"figures/ass.png\", dpi=300)\n",
    "\n",
    "df = analysis_df[[\"ds_nodes\", \"assortativity_lcc\"]]\n",
    "df.plot(ls=\"\", marker = \".\", x=\"ds_nodes\", markersize=7, alpha=.3)\n",
    "plt.xscale(\"log\")\n",
    "plt.savefig(\"figures/ass_lcc.png\", dpi=300)\n",
    "\n",
    "df = analysis_df[[\"ds_nodes\", \"assortativity\", \"assortativity_lcc\"]]\n",
    "df.plot(ls=\"\", marker = \".\", x=\"ds_nodes\", markersize=7, alpha=.3)\n",
    "plt.xscale(\"log\")\n",
    "plt.savefig(\"figures/ass_all.png\", dpi=300)"
   ]
  },
  {
   "cell_type": "code",
   "execution_count": null,
   "metadata": {},
   "outputs": [],
   "source": [
    "# number of leaf1 aggregators\n",
    "df = analysis_df[[\"ds_nodes\", \"ri_leaf1_aggr\"]]\n",
    "df.plot(ls=\"\", marker = \".\", x=\"ds_nodes\", markersize=7, alpha=.3)\n",
    "plt.yscale(\"log\")\n",
    "plt.xscale(\"log\")\n",
    "plt.savefig(\"figures/aggr.png\", dpi=300)"
   ]
  },
  {
   "source": [
    "# Distributions of statistics over all the ASs"
   ],
   "cell_type": "markdown",
   "metadata": {}
  },
  {
   "cell_type": "code",
   "execution_count": null,
   "metadata": {},
   "outputs": [],
   "source": [
    "# number of nodes\n",
    "df = analysis_df[\"ds_nodes\"]\n",
    "df.plot(ls=\"\", marker = \".\", markersize=7, alpha=.3)\n",
    "plt.yscale(\"log\")\n",
    "plt.savefig(\"figures/dis_nodes.png\", dpi=300)"
   ]
  },
  {
   "cell_type": "code",
   "execution_count": null,
   "metadata": {},
   "outputs": [],
   "source": [
    "# number of links (both MA and PP)\n",
    "df = analysis_df[\"ds_links\"].sort_values().reset_index().drop(\"index\", axis=1)\n",
    "df.plot(ls=\"\", marker = \".\", markersize=7, alpha=.3)\n",
    "plt.yscale(\"log\")\n",
    "plt.savefig(\"figures/dis_links.png\", dpi=300)"
   ]
  },
  {
   "cell_type": "code",
   "execution_count": null,
   "metadata": {},
   "outputs": [],
   "source": [
    "# LCC coverage\n",
    "df = analysis_df[\"largest_cc_coverage\"].sort_values().reset_index().drop(\"index\", axis=1)\n",
    "df.plot(ls=\"\", marker = \".\", markersize=7, alpha=.3)\n",
    "plt.savefig(\"figures/dis_lcc_cov.png\", dpi=300)"
   ]
  },
  {
   "cell_type": "code",
   "execution_count": null,
   "metadata": {},
   "outputs": [],
   "source": [
    "# avg shortest path length\n",
    "df = analysis_df[\"avg_shortest_path_len\"].sort_values().reset_index().drop(\"index\", axis=1)\n",
    "df.plot(ls=\"\", marker = \".\", markersize=7, alpha=.3)\n",
    "plt.savefig(\"figures/dis_avg_short_path.png\", dpi=300)\n"
   ]
  },
  {
   "cell_type": "code",
   "execution_count": null,
   "metadata": {},
   "outputs": [],
   "source": [
    "# assortativity\n",
    "df = analysis_df[\"assortativity\"].sort_values().reset_index().drop(\"index\", axis=1)\n",
    "df.plot(ls=\"\", marker = \".\", markersize=7, alpha=.3)\n",
    "plt.savefig(\"figures/dis_ass.png\", dpi=300)\n",
    "\n",
    "df = analysis_df[\"assortativity_lcc\"].sort_values().reset_index().drop(\"index\", axis=1)\n",
    "df.plot(ls=\"\", marker = \".\", markersize=7, alpha=.3)\n",
    "plt.savefig(\"figures/dis_ass_lcc.png\", dpi=300)\n",
    "\n",
    "df = analysis_df[[\"assortativity\", \"assortativity_lcc\"]].sort_values(by=\"assortativity_lcc\").reset_index().drop(\"index\", axis=1)\n",
    "df.plot(ls=\"\", marker = \".\", markersize=7, alpha=.3, title=\"ranked by LCC\")\n",
    "\n",
    "df = analysis_df[[\"assortativity\", \"assortativity_lcc\"]].sort_values(by=\"assortativity\").reset_index().drop(\"index\", axis=1)\n",
    "df.plot(ls=\"\", marker = \".\", markersize=7, alpha=.3, title=\"ranked by whole AS\")"
   ]
  },
  {
   "cell_type": "code",
   "execution_count": null,
   "metadata": {},
   "outputs": [],
   "source": []
  }
 ]
}