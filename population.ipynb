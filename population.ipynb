{
 "metadata": {
  "language_info": {
   "codemirror_mode": {
    "name": "ipython",
    "version": 3
   },
   "file_extension": ".py",
   "mimetype": "text/x-python",
   "name": "python",
   "nbconvert_exporter": "python",
   "pygments_lexer": "ipython3",
   "version": "3.9.4"
  },
  "orig_nbformat": 2,
  "kernelspec": {
   "name": "python394jvsc74a57bd052ff49cc06b74dac6aaef5d7daa0fee3232336051e9da08aa968db01a51e2d0e",
   "display_name": "Python 3.9.4 64-bit ('as-analysis-4ZNE6qS_': pipenv)"
  }
 },
 "nbformat": 4,
 "nbformat_minor": 2,
 "cells": [
  {
   "cell_type": "code",
   "execution_count": 1,
   "metadata": {},
   "outputs": [],
   "source": [
    "import pandas as pd\n",
    "import pycountry\n",
    "import json"
   ]
  },
  {
   "source": [
    "## clean data"
   ],
   "cell_type": "markdown",
   "metadata": {}
  },
  {
   "cell_type": "code",
   "execution_count": 2,
   "metadata": {},
   "outputs": [],
   "source": [
    "# population data\n",
    "pop_df_raw = pd.read_csv(\"population_data/API_SP.POP/API_SP.POP.csv\")\n",
    "pop_obj = list()\n",
    "for index, row in pop_df_raw.iterrows():\n",
    "    for elem in reversed(row):\n",
    "        # select last known population\n",
    "        if elem == elem:\n",
    "            population = elem\n",
    "            break\n",
    "    if isinstance(elem, float):\n",
    "        pop_obj.append({\n",
    "            \"country\": row[\"Country Code\"],\n",
    "            \"population\": population\n",
    "        })\n",
    "pop_df = pd.DataFrame(pop_obj)\n",
    "pop_df.to_csv(\"population_data/pop_clean.csv\")\n",
    "\n",
    "# gdp data\n",
    "gdp_df_raw = pd.read_csv(\"population_data/API_NY.GDP/API_NY.GDP.csv\")\n",
    "gdp_obj = list()\n",
    "for index, row in gdp_df_raw.iterrows():\n",
    "    for elem in reversed(row):\n",
    "        # select last known gdp\n",
    "        if elem == elem:\n",
    "            gdp = elem\n",
    "            break\n",
    "    if isinstance(elem, float):\n",
    "        gdp_obj.append({\n",
    "            \"country\": row[\"Country Code\"],\n",
    "            \"gdp\": gdp\n",
    "        })\n",
    "gdp_df = pd.DataFrame(gdp_obj)\n",
    "gdp_df.to_csv(\"population_data/gdp_clean.csv\")"
   ]
  },
  {
   "source": [
    "## add population and gdp data to lcc data"
   ],
   "cell_type": "markdown",
   "metadata": {}
  },
  {
   "cell_type": "code",
   "execution_count": 6,
   "metadata": {
    "tags": []
   },
   "outputs": [
    {
     "output_type": "execute_result",
     "data": {
      "text/plain": [
       "       ds_nodes  largest_cc_size  largest_cc_coverage  count   population  \\\n",
       "CA  1112.370833      1552.127083             0.764373    480   37589262.0   \n",
       "GB  2674.062500      3638.099085             0.813568    656   66834405.0   \n",
       "HK  1539.268750      2453.662500             0.590035    160    7507400.0   \n",
       "CO  6355.829787      5791.212766             0.615037     47   50339443.0   \n",
       "US  2533.549163      3650.748745             0.762718   4780  328239523.0   \n",
       "..          ...              ...                  ...    ...          ...   \n",
       "WS    67.000000        83.000000             0.945878      2     197097.0   \n",
       "VU   107.666667        43.333333             0.645401      3     299882.0   \n",
       "PW   176.000000       178.500000             0.989645      2      18008.0   \n",
       "CU  4196.000000      3072.000000             0.560482      1   11333483.0   \n",
       "MF    95.000000       108.000000             0.981818      1      38002.0   \n",
       "\n",
       "             gdp  \n",
       "CA  1.736426e+12  \n",
       "GB  2.829108e+12  \n",
       "HK  3.657115e+11  \n",
       "CO  3.236160e+11  \n",
       "US  2.143323e+13  \n",
       "..           ...  \n",
       "WS  8.522502e+08  \n",
       "VU  9.342400e+08  \n",
       "PW  2.683549e+08  \n",
       "CU  1.000230e+11  \n",
       "MF           NaN  \n",
       "\n",
       "[209 rows x 6 columns]"
      ],
      "text/html": "<div>\n<style scoped>\n    .dataframe tbody tr th:only-of-type {\n        vertical-align: middle;\n    }\n\n    .dataframe tbody tr th {\n        vertical-align: top;\n    }\n\n    .dataframe thead th {\n        text-align: right;\n    }\n</style>\n<table border=\"1\" class=\"dataframe\">\n  <thead>\n    <tr style=\"text-align: right;\">\n      <th></th>\n      <th>ds_nodes</th>\n      <th>largest_cc_size</th>\n      <th>largest_cc_coverage</th>\n      <th>count</th>\n      <th>population</th>\n      <th>gdp</th>\n    </tr>\n  </thead>\n  <tbody>\n    <tr>\n      <th>CA</th>\n      <td>1112.370833</td>\n      <td>1552.127083</td>\n      <td>0.764373</td>\n      <td>480</td>\n      <td>37589262.0</td>\n      <td>1.736426e+12</td>\n    </tr>\n    <tr>\n      <th>GB</th>\n      <td>2674.062500</td>\n      <td>3638.099085</td>\n      <td>0.813568</td>\n      <td>656</td>\n      <td>66834405.0</td>\n      <td>2.829108e+12</td>\n    </tr>\n    <tr>\n      <th>HK</th>\n      <td>1539.268750</td>\n      <td>2453.662500</td>\n      <td>0.590035</td>\n      <td>160</td>\n      <td>7507400.0</td>\n      <td>3.657115e+11</td>\n    </tr>\n    <tr>\n      <th>CO</th>\n      <td>6355.829787</td>\n      <td>5791.212766</td>\n      <td>0.615037</td>\n      <td>47</td>\n      <td>50339443.0</td>\n      <td>3.236160e+11</td>\n    </tr>\n    <tr>\n      <th>US</th>\n      <td>2533.549163</td>\n      <td>3650.748745</td>\n      <td>0.762718</td>\n      <td>4780</td>\n      <td>328239523.0</td>\n      <td>2.143323e+13</td>\n    </tr>\n    <tr>\n      <th>...</th>\n      <td>...</td>\n      <td>...</td>\n      <td>...</td>\n      <td>...</td>\n      <td>...</td>\n      <td>...</td>\n    </tr>\n    <tr>\n      <th>WS</th>\n      <td>67.000000</td>\n      <td>83.000000</td>\n      <td>0.945878</td>\n      <td>2</td>\n      <td>197097.0</td>\n      <td>8.522502e+08</td>\n    </tr>\n    <tr>\n      <th>VU</th>\n      <td>107.666667</td>\n      <td>43.333333</td>\n      <td>0.645401</td>\n      <td>3</td>\n      <td>299882.0</td>\n      <td>9.342400e+08</td>\n    </tr>\n    <tr>\n      <th>PW</th>\n      <td>176.000000</td>\n      <td>178.500000</td>\n      <td>0.989645</td>\n      <td>2</td>\n      <td>18008.0</td>\n      <td>2.683549e+08</td>\n    </tr>\n    <tr>\n      <th>CU</th>\n      <td>4196.000000</td>\n      <td>3072.000000</td>\n      <td>0.560482</td>\n      <td>1</td>\n      <td>11333483.0</td>\n      <td>1.000230e+11</td>\n    </tr>\n    <tr>\n      <th>MF</th>\n      <td>95.000000</td>\n      <td>108.000000</td>\n      <td>0.981818</td>\n      <td>1</td>\n      <td>38002.0</td>\n      <td>NaN</td>\n    </tr>\n  </tbody>\n</table>\n<p>209 rows × 6 columns</p>\n</div>"
     },
     "metadata": {},
     "execution_count": 6
    }
   ],
   "source": [
    "with open(\"stats/lcc_country.json\", \"r\", encoding=\"utf8\") as in_file:\n",
    "    countries = json.load(in_file)\n",
    "\n",
    "for alpha_2, data in countries.items():\n",
    "    # if alpha_2 == \"INTERNATIONAL\":\n",
    "    #     continue\n",
    "    country = pycountry.countries.get(alpha_2=alpha_2)\n",
    "    if country is None:\n",
    "        continue\n",
    "    alpha_3 = country.alpha_3\n",
    "    population = pop_df.loc[pop_df['country'] == alpha_3][\"population\"]\n",
    "    gdp = gdp_df.loc[gdp_df['country'] == alpha_3][\"gdp\"]\n",
    "    if len(population) > 0:\n",
    "        data[\"population\"] = population.values[0]\n",
    "    if len(gdp) > 0:\n",
    "        data[\"gdp\"] = gdp.values[0]\n",
    "\n",
    "with open(\"stats/lcc_pop_gdp_country.json\", \"w\", encoding=\"utf8\") as out_file:\n",
    "    json.dump(countries, out_file)\n",
    "\n",
    "# dataframe and csv\n",
    "country_df = pd.DataFrame.from_dict(countries, orient=\"index\")\n",
    "country_df = country_df.query(\"count != 0\")\n",
    "country_df.dropna(inplace=True, subset=[\"population\", \"gdp\"], how=\"all\")\n",
    "# country_df.index.name = \"country\"\n",
    "country_df.to_csv(\"stats/lcc_pop_gdp_country.csv\")\n",
    "country_df"
   ]
  },
  {
   "cell_type": "code",
   "execution_count": 4,
   "metadata": {},
   "outputs": [
    {
     "output_type": "execute_result",
     "data": {
      "text/plain": [
       "Country(alpha_2='MF', alpha_3='MAF', name='Saint Martin (French part)', numeric='663')"
      ]
     },
     "metadata": {},
     "execution_count": 4
    }
   ],
   "source": [
    "country = pycountry.countries.get(alpha_2=\"MF\")\n",
    "country"
   ]
  },
  {
   "cell_type": "code",
   "execution_count": null,
   "metadata": {},
   "outputs": [],
   "source": []
  }
 ]
}